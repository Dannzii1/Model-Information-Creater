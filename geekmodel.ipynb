{
  "nbformat": 4,
  "nbformat_minor": 0,
  "metadata": {
    "colab": {
      "name": "geekmodel.ipynb",
      "provenance": [],
      "collapsed_sections": []
    },
    "kernelspec": {
      "name": "python3",
      "display_name": "Python 3"
    },
    "language_info": {
      "name": "python"
    }
  },
  "cells": [
    {
      "cell_type": "code",
      "metadata": {
        "id": "d45yrWZMaewi",
        "colab": {
          "base_uri": "https://localhost:8080/"
        },
        "outputId": "64b99b41-5b24-48fc-b78f-869367cdcf55"
      },
      "source": [
        "import pandas as pd\n",
        "import numpy as np\n",
        "\n",
        "from os import getcwd\n",
        "df = pd.read_csv('sample_data/mycsv.csv.csv')\n",
        "print(df.shape)\n",
        "df.head\n",
        "# print(getcwd())\n"
      ],
      "execution_count": 12,
      "outputs": [
        {
          "output_type": "stream",
          "text": [
            "(99, 8)\n"
          ],
          "name": "stdout"
        },
        {
          "output_type": "execute_result",
          "data": {
            "text/plain": [
              "<bound method NDFrame.head of               Position  GPA     Skill 1  ... Skill Level 2  Skill 3 Skill Level 3\n",
              "0   FullStackDeveloper  2.7         css  ...       Advance    rails      Beginner\n",
              "1     BackEndDeveloper  3.5        html  ...  Intermediate    react  Intermediate\n",
              "2     BackEndDeveloper  2.7        html  ...  Intermediate    react  Intermediate\n",
              "3   FullStackDeveloper  2.6  javascript  ...  Intermediate    react  Intermediate\n",
              "4    FrontEndDeveloper  3.3        html  ...       Advance    react      Beginner\n",
              "..                 ...  ...         ...  ...           ...      ...           ...\n",
              "94  FullStackDeveloper  3.4  javascript  ...  Intermediate  angular      Beginner\n",
              "95    BackEndDeveloper  2.9  javascript  ...  Intermediate    rails      Beginner\n",
              "96    BackEndDeveloper  3.3         css  ...       Advance   django      Beginner\n",
              "97  FullStackDeveloper  2.6  javascript  ...       Advance    rails       Advance\n",
              "98  FullStackDeveloper  3.5  javascript  ...  Intermediate   django       Advance\n",
              "\n",
              "[99 rows x 8 columns]>"
            ]
          },
          "metadata": {
            "tags": []
          },
          "execution_count": 12
        }
      ]
    },
    {
      "cell_type": "code",
      "metadata": {
        "colab": {
          "base_uri": "https://localhost:8080/"
        },
        "id": "05VRWwdNwP5U",
        "outputId": "c7f419f1-4bc4-4c3a-85a6-8e84bfa55541"
      },
      "source": [
        "df.info()"
      ],
      "execution_count": 13,
      "outputs": [
        {
          "output_type": "stream",
          "text": [
            "<class 'pandas.core.frame.DataFrame'>\n",
            "RangeIndex: 99 entries, 0 to 98\n",
            "Data columns (total 8 columns):\n",
            " #   Column         Non-Null Count  Dtype  \n",
            "---  ------         --------------  -----  \n",
            " 0   Position       99 non-null     object \n",
            " 1   GPA            99 non-null     float64\n",
            " 2   Skill 1        99 non-null     object \n",
            " 3   Skill Level 1  99 non-null     object \n",
            " 4   Skill 2        99 non-null     object \n",
            " 5   Skill Level 2  99 non-null     object \n",
            " 6   Skill 3        99 non-null     object \n",
            " 7   Skill Level 3  99 non-null     object \n",
            "dtypes: float64(1), object(7)\n",
            "memory usage: 6.3+ KB\n"
          ],
          "name": "stdout"
        }
      ]
    },
    {
      "cell_type": "code",
      "metadata": {
        "colab": {
          "base_uri": "https://localhost:8080/",
          "height": 297
        },
        "id": "qJTW4d7sw1xv",
        "outputId": "3955d655-b05b-4828-a061-fb1ad2dc2d88"
      },
      "source": [
        "df.describe()"
      ],
      "execution_count": 14,
      "outputs": [
        {
          "output_type": "execute_result",
          "data": {
            "text/html": [
              "<div>\n",
              "<style scoped>\n",
              "    .dataframe tbody tr th:only-of-type {\n",
              "        vertical-align: middle;\n",
              "    }\n",
              "\n",
              "    .dataframe tbody tr th {\n",
              "        vertical-align: top;\n",
              "    }\n",
              "\n",
              "    .dataframe thead th {\n",
              "        text-align: right;\n",
              "    }\n",
              "</style>\n",
              "<table border=\"1\" class=\"dataframe\">\n",
              "  <thead>\n",
              "    <tr style=\"text-align: right;\">\n",
              "      <th></th>\n",
              "      <th>GPA</th>\n",
              "    </tr>\n",
              "  </thead>\n",
              "  <tbody>\n",
              "    <tr>\n",
              "      <th>count</th>\n",
              "      <td>99.000000</td>\n",
              "    </tr>\n",
              "    <tr>\n",
              "      <th>mean</th>\n",
              "      <td>2.998990</td>\n",
              "    </tr>\n",
              "    <tr>\n",
              "      <th>std</th>\n",
              "      <td>0.310856</td>\n",
              "    </tr>\n",
              "    <tr>\n",
              "      <th>min</th>\n",
              "      <td>2.500000</td>\n",
              "    </tr>\n",
              "    <tr>\n",
              "      <th>25%</th>\n",
              "      <td>2.700000</td>\n",
              "    </tr>\n",
              "    <tr>\n",
              "      <th>50%</th>\n",
              "      <td>3.000000</td>\n",
              "    </tr>\n",
              "    <tr>\n",
              "      <th>75%</th>\n",
              "      <td>3.300000</td>\n",
              "    </tr>\n",
              "    <tr>\n",
              "      <th>max</th>\n",
              "      <td>3.500000</td>\n",
              "    </tr>\n",
              "  </tbody>\n",
              "</table>\n",
              "</div>"
            ],
            "text/plain": [
              "             GPA\n",
              "count  99.000000\n",
              "mean    2.998990\n",
              "std     0.310856\n",
              "min     2.500000\n",
              "25%     2.700000\n",
              "50%     3.000000\n",
              "75%     3.300000\n",
              "max     3.500000"
            ]
          },
          "metadata": {
            "tags": []
          },
          "execution_count": 14
        }
      ]
    },
    {
      "cell_type": "code",
      "metadata": {
        "colab": {
          "base_uri": "https://localhost:8080/"
        },
        "id": "ZhEFOzWfyusm",
        "outputId": "25fe1773-9c32-4750-8616-218390179c71"
      },
      "source": [
        "data1 = df['Position']\n",
        "data2 = df['Skill 1']\n",
        "data3 = df['Skill Level 1']\n",
        "data4 = df['Skill 2']\n",
        "data5 = df['Skill Level 2']\n",
        "data6 = df['Skill 3']\n",
        "data7 = df['Skill Level 3']\n",
        "\n",
        "data_dict1 = data1.to_dict()\n",
        "data_dict2 = data2.to_dict()\n",
        "data_dict3 = data3.to_dict()\n",
        "data_dict4 = data4.to_dict()\n",
        "data_dict5 = data5.to_dict()\n",
        "data_dict6 = data6.to_dict()\n",
        "data_dict7 = data7.to_dict()\n",
        "\n",
        "my_Position_dict = {y:x for x,y in data_dict1.items()}\n",
        "(pd.DataFrame.from_dict(data=my_Position_dict, orient='index').to_csv('my_Position_dict.csv', header=False))\n",
        "my_Position_dict\n",
        "\n",
        "my_Skill_1_dict = {y:x for x,y in data_dict2.items()}\n",
        "(pd.DataFrame.from_dict(data=my_Skill_1_dict, orient='index').to_csv('my_Skill_1_dict.csv', header=False))\n",
        "\n",
        "my_Skill_Level_1_dict = {y:x for x,y in data_dict3.items()}\n",
        "(pd.DataFrame.from_dict(data=my_Skill_Level_1_dict, orient='index').to_csv('my_Skill_Level_1_dict.csv', header=False))\n",
        "\n",
        "my_Skill_2_dict = {y:x for x,y in data_dict4.items()}\n",
        "(pd.DataFrame.from_dict(data=my_Skill_2_dict, orient='index').to_csv('my_Skill_2_dict.csv', header=False))\n",
        "\n",
        "my_Skill_Level_2_dict = {y:x for x,y in data_dict5.items()}\n",
        "(pd.DataFrame.from_dict(data=my_Skill_Level_2_dict, orient='index').to_csv('my_Skill_Level_2_dict.csv', header=False))\n",
        "\n",
        "my_Skill_3_dict = {y:x for x,y in data_dict6.items()}\n",
        "(pd.DataFrame.from_dict(data=my_Skill_3_dict, orient='index').to_csv('my_Skill_3_dict.csv', header=False))\n",
        "\n",
        "my_Skill_Level_3_dict = {y:x for x,y in data_dict7.items()}\n",
        "(pd.DataFrame.from_dict(data=my_Skill_Level_3_dict, orient='index').to_csv('my_Skill_Level_3_dict.csv', header=False))\n",
        "\n"
      ],
      "execution_count": 17,
      "outputs": [
        {
          "output_type": "execute_result",
          "data": {
            "text/plain": [
              "{'Advance': 98, 'Beginner': 96, 'Intermediate': 90}"
            ]
          },
          "metadata": {
            "tags": []
          },
          "execution_count": 17
        }
      ]
    },
    {
      "cell_type": "code",
      "metadata": {
        "colab": {
          "base_uri": "https://localhost:8080/"
        },
        "id": "qObvboZB5MDV",
        "outputId": "88ed2db8-9808-4451-f135-2daa7466b30a"
      },
      "source": [
        "my_Skill_1_dict\n"
      ],
      "execution_count": 19,
      "outputs": [
        {
          "output_type": "execute_result",
          "data": {
            "text/plain": [
              "{'css': 96, 'html': 93, 'javascript': 98}"
            ]
          },
          "metadata": {
            "tags": []
          },
          "execution_count": 19
        }
      ]
    },
    {
      "cell_type": "code",
      "metadata": {
        "colab": {
          "base_uri": "https://localhost:8080/"
        },
        "id": "3lARB5025MP9",
        "outputId": "cf794f99-7208-44d2-9470-1a3088f74c09"
      },
      "source": [
        "my_Skill_Level_1_dict\n"
      ],
      "execution_count": 20,
      "outputs": [
        {
          "output_type": "execute_result",
          "data": {
            "text/plain": [
              "{'Advance': 98, 'Beginner': 97, 'Intermediate': 92}"
            ]
          },
          "metadata": {
            "tags": []
          },
          "execution_count": 20
        }
      ]
    },
    {
      "cell_type": "code",
      "metadata": {
        "colab": {
          "base_uri": "https://localhost:8080/"
        },
        "id": "w2WQmJa85Mbf",
        "outputId": "c6ee7c6f-b67c-4558-f432-c450ec474c84"
      },
      "source": [
        "my_Skill_2_dict\n"
      ],
      "execution_count": 21,
      "outputs": [
        {
          "output_type": "execute_result",
          "data": {
            "text/plain": [
              "{'backbone': 96, 'git': 97, 'php': 98, 'vue': 92}"
            ]
          },
          "metadata": {
            "tags": []
          },
          "execution_count": 21
        }
      ]
    },
    {
      "cell_type": "code",
      "metadata": {
        "colab": {
          "base_uri": "https://localhost:8080/"
        },
        "id": "KpaoRDa25MnL",
        "outputId": "9cd09811-0250-4101-9360-76955a3e9d9e"
      },
      "source": [
        "my_Skill_Level_2_dict\n",
        "\n"
      ],
      "execution_count": 22,
      "outputs": [
        {
          "output_type": "execute_result",
          "data": {
            "text/plain": [
              "{'Advance': 97, 'Beginner': 89, 'Intermediate': 98}"
            ]
          },
          "metadata": {
            "tags": []
          },
          "execution_count": 22
        }
      ]
    },
    {
      "cell_type": "code",
      "metadata": {
        "colab": {
          "base_uri": "https://localhost:8080/"
        },
        "id": "sHvalL8j5ZKh",
        "outputId": "d5e9e97f-bc7b-42d7-b751-ccc2c80d73b0"
      },
      "source": [
        "my_Skill_3_dict\n"
      ],
      "execution_count": 23,
      "outputs": [
        {
          "output_type": "execute_result",
          "data": {
            "text/plain": [
              "{'angular': 94, 'django': 98, 'rails': 97, 'react': 91}"
            ]
          },
          "metadata": {
            "tags": []
          },
          "execution_count": 23
        }
      ]
    },
    {
      "cell_type": "code",
      "metadata": {
        "colab": {
          "base_uri": "https://localhost:8080/"
        },
        "id": "_-PsGsQQ5ZmR",
        "outputId": "e0d71bf9-27f7-47be-bd48-b795b6d784bc"
      },
      "source": [
        "my_Skill_Level_3_dict"
      ],
      "execution_count": 24,
      "outputs": [
        {
          "output_type": "execute_result",
          "data": {
            "text/plain": [
              "{'Advance': 98, 'Beginner': 96, 'Intermediate': 90}"
            ]
          },
          "metadata": {
            "tags": []
          },
          "execution_count": 24
        }
      ]
    },
    {
      "cell_type": "code",
      "metadata": {
        "colab": {
          "base_uri": "https://localhost:8080/",
          "height": 204
        },
        "id": "yTVSQdxX6II8",
        "outputId": "d4c01237-f479-4dc9-d652-d6b0c5fe29b8"
      },
      "source": [
        "modeldf=df[['Position','GPA','Skill 1','Skill Level 1','Skill 2','Skill Level 2','Skill 3','Skill Level 3']]\n",
        "\n",
        "modeldf['Position']= modeldf['Position'].map(my_Position_dict)\n",
        "modeldf['Skill 1']= modeldf['Skill 1'].map(my_Skill_1_dict)\n",
        "modeldf['Skill Level 1']= modeldf['Skill Level 1'].map(my_Skill_Level_1_dict)\n",
        "modeldf['Skill 2']= modeldf['Skill 2'].map(my_Skill_2_dict)\n",
        "modeldf['Skill Level 2']= modeldf['Skill Level 2'].map(my_Skill_Level_2_dict)\n",
        "modeldf['Skill 3']= modeldf['Skill 3'].map(my_Skill_3_dict)\n",
        "modeldf['Skill Level 3']= modeldf['Skill Level 3'].map(my_Skill_Level_3_dict)\n",
        "\n",
        "modeldf.head()\n",
        "\n"
      ],
      "execution_count": 32,
      "outputs": [
        {
          "output_type": "execute_result",
          "data": {
            "text/html": [
              "<div>\n",
              "<style scoped>\n",
              "    .dataframe tbody tr th:only-of-type {\n",
              "        vertical-align: middle;\n",
              "    }\n",
              "\n",
              "    .dataframe tbody tr th {\n",
              "        vertical-align: top;\n",
              "    }\n",
              "\n",
              "    .dataframe thead th {\n",
              "        text-align: right;\n",
              "    }\n",
              "</style>\n",
              "<table border=\"1\" class=\"dataframe\">\n",
              "  <thead>\n",
              "    <tr style=\"text-align: right;\">\n",
              "      <th></th>\n",
              "      <th>Position</th>\n",
              "      <th>GPA</th>\n",
              "      <th>Skill 1</th>\n",
              "      <th>Skill Level 1</th>\n",
              "      <th>Skill 2</th>\n",
              "      <th>Skill Level 2</th>\n",
              "      <th>Skill 3</th>\n",
              "      <th>Skill Level 3</th>\n",
              "    </tr>\n",
              "  </thead>\n",
              "  <tbody>\n",
              "    <tr>\n",
              "      <th>0</th>\n",
              "      <td>98</td>\n",
              "      <td>2.7</td>\n",
              "      <td>96</td>\n",
              "      <td>97</td>\n",
              "      <td>96</td>\n",
              "      <td>97</td>\n",
              "      <td>97</td>\n",
              "      <td>96</td>\n",
              "    </tr>\n",
              "    <tr>\n",
              "      <th>1</th>\n",
              "      <td>96</td>\n",
              "      <td>3.5</td>\n",
              "      <td>93</td>\n",
              "      <td>98</td>\n",
              "      <td>98</td>\n",
              "      <td>98</td>\n",
              "      <td>91</td>\n",
              "      <td>90</td>\n",
              "    </tr>\n",
              "    <tr>\n",
              "      <th>2</th>\n",
              "      <td>96</td>\n",
              "      <td>2.7</td>\n",
              "      <td>93</td>\n",
              "      <td>98</td>\n",
              "      <td>92</td>\n",
              "      <td>98</td>\n",
              "      <td>91</td>\n",
              "      <td>90</td>\n",
              "    </tr>\n",
              "    <tr>\n",
              "      <th>3</th>\n",
              "      <td>98</td>\n",
              "      <td>2.6</td>\n",
              "      <td>98</td>\n",
              "      <td>98</td>\n",
              "      <td>92</td>\n",
              "      <td>98</td>\n",
              "      <td>91</td>\n",
              "      <td>90</td>\n",
              "    </tr>\n",
              "    <tr>\n",
              "      <th>4</th>\n",
              "      <td>92</td>\n",
              "      <td>3.3</td>\n",
              "      <td>93</td>\n",
              "      <td>92</td>\n",
              "      <td>92</td>\n",
              "      <td>97</td>\n",
              "      <td>91</td>\n",
              "      <td>96</td>\n",
              "    </tr>\n",
              "  </tbody>\n",
              "</table>\n",
              "</div>"
            ],
            "text/plain": [
              "   Position  GPA  Skill 1  ...  Skill Level 2  Skill 3  Skill Level 3\n",
              "0        98  2.7       96  ...             97       97             96\n",
              "1        96  3.5       93  ...             98       91             90\n",
              "2        96  2.7       93  ...             98       91             90\n",
              "3        98  2.6       98  ...             98       91             90\n",
              "4        92  3.3       93  ...             97       91             96\n",
              "\n",
              "[5 rows x 8 columns]"
            ]
          },
          "metadata": {
            "tags": []
          },
          "execution_count": 32
        }
      ]
    },
    {
      "cell_type": "code",
      "metadata": {
        "id": "x4dOk29eCx93"
      },
      "source": [
        "X=modeldf[['GPA','Skill 1','Skill Level 1','Skill 2','Skill Level 2','Skill 3','Skill Level 3']].value\n",
        "Y=modeldf[['Position']].value"
      ],
      "execution_count": null,
      "outputs": []
    },
    {
      "cell_type": "code",
      "metadata": {
        "id": "aBEJM8tSE2QK"
      },
      "source": [
        "from sklearn.model_selection import train_test_split\n",
        "\n",
        "def extractData(df,target):\n",
        "    Y = df[target]\n",
        "    X = df.drop([target], axis=1)\n",
        "    X_train, X_test, y_train, y_test = train_test_split(X, Y, test_size=0.3, random_state=42)\n",
        "    return X_train, X_test, y_train, y_test"
      ],
      "execution_count": 33,
      "outputs": []
    },
    {
      "cell_type": "code",
      "metadata": {
        "id": "oMu10b5ZGLLX"
      },
      "source": [
        "train,test_input,target,test_output = extractData(modeldf,'Position')"
      ],
      "execution_count": 35,
      "outputs": []
    },
    {
      "cell_type": "code",
      "metadata": {
        "id": "uWV9UD90qfh3"
      },
      "source": [
        "from tensorflow.keras.models import Sequential\n",
        "from tensorflow.keras.layers import Dense, Activation, Flatten\n",
        "\n",
        "def create_Neural_Net():\n",
        "    NN_model = Sequential()\n",
        "    \n",
        "    NN_model.add(Dense(128, kernel_initializer='normal',input_dim = train.shape[1], activation='relu'))\n",
        "    \n",
        "    NN_model.add(Dense(256, kernel_initializer='normal',activation='relu'))\n",
        "    NN_model.add(Dense(256, kernel_initializer='normal',activation='relu'))\n",
        "    NN_model.add(Dense(256, kernel_initializer='normal',activation='relu'))\n",
        "    \n",
        "    NN_model.add(Dense(1, kernel_initializer='normal',activation='linear'))\n",
        "    \n",
        "    NN_model.compile(loss='mean_absolute_error', optimizer='adam', metrics=['mean_absolute_error'])\n",
        "    return NN_model\n"
      ],
      "execution_count": 36,
      "outputs": []
    },
    {
      "cell_type": "code",
      "metadata": {
        "id": "od8fo-0oqfh3",
        "colab": {
          "base_uri": "https://localhost:8080/"
        },
        "outputId": "1b3e2faf-ea24-47ba-f045-2ffa55436ffa"
      },
      "source": [
        "model = create_Neural_Net()\n",
        "type(model)"
      ],
      "execution_count": 37,
      "outputs": [
        {
          "output_type": "execute_result",
          "data": {
            "text/plain": [
              "tensorflow.python.keras.engine.sequential.Sequential"
            ]
          },
          "metadata": {
            "tags": []
          },
          "execution_count": 37
        }
      ]
    },
    {
      "cell_type": "code",
      "metadata": {
        "id": "P6QaXh_Mqfh4"
      },
      "source": [
        "# Checkpoint the weights for best model on validation accuracy\n",
        "\n",
        "from tensorflow.keras.callbacks import ModelCheckpoint\n",
        "\n",
        "# checkpoint\n",
        "checkpoint_name=\"weights.best.hdf5\"\n",
        "checkpoint = ModelCheckpoint(checkpoint_name, monitor='val_loss', verbose=1, save_best_only=True, mode='auto')\n",
        "callbacks_list = [checkpoint]"
      ],
      "execution_count": 38,
      "outputs": []
    },
    {
      "cell_type": "code",
      "metadata": {
        "id": "IG9p7Hceqfh4",
        "colab": {
          "base_uri": "https://localhost:8080/"
        },
        "outputId": "15655962-dcf2-4f70-95da-07f148f5ecec"
      },
      "source": [
        "model.fit(train, target, validation_split=0.20, epochs=200, batch_size=600, callbacks=callbacks_list, verbose=0)\n"
      ],
      "execution_count": 39,
      "outputs": [
        {
          "output_type": "stream",
          "text": [
            "\n",
            "Epoch 00001: val_loss improved from inf to 91.32705, saving model to weights.best.hdf5\n",
            "\n",
            "Epoch 00002: val_loss improved from 91.32705 to 87.84664, saving model to weights.best.hdf5\n",
            "\n",
            "Epoch 00003: val_loss improved from 87.84664 to 83.54462, saving model to weights.best.hdf5\n",
            "\n",
            "Epoch 00004: val_loss improved from 83.54462 to 78.06541, saving model to weights.best.hdf5\n",
            "\n",
            "Epoch 00005: val_loss improved from 78.06541 to 71.12000, saving model to weights.best.hdf5\n",
            "\n",
            "Epoch 00006: val_loss improved from 71.12000 to 62.27069, saving model to weights.best.hdf5\n",
            "\n",
            "Epoch 00007: val_loss improved from 62.27069 to 51.05391, saving model to weights.best.hdf5\n",
            "\n",
            "Epoch 00008: val_loss improved from 51.05391 to 36.97089, saving model to weights.best.hdf5\n",
            "\n",
            "Epoch 00009: val_loss improved from 36.97089 to 19.31541, saving model to weights.best.hdf5\n",
            "\n",
            "Epoch 00010: val_loss improved from 19.31541 to 2.83678, saving model to weights.best.hdf5\n",
            "\n",
            "Epoch 00011: val_loss did not improve from 2.83678\n",
            "\n",
            "Epoch 00012: val_loss did not improve from 2.83678\n",
            "\n",
            "Epoch 00013: val_loss did not improve from 2.83678\n",
            "\n",
            "Epoch 00014: val_loss did not improve from 2.83678\n",
            "\n",
            "Epoch 00015: val_loss did not improve from 2.83678\n",
            "\n",
            "Epoch 00016: val_loss did not improve from 2.83678\n",
            "\n",
            "Epoch 00017: val_loss did not improve from 2.83678\n",
            "\n",
            "Epoch 00018: val_loss did not improve from 2.83678\n",
            "\n",
            "Epoch 00019: val_loss did not improve from 2.83678\n",
            "\n",
            "Epoch 00020: val_loss improved from 2.83678 to 2.05399, saving model to weights.best.hdf5\n",
            "\n",
            "Epoch 00021: val_loss did not improve from 2.05399\n",
            "\n",
            "Epoch 00022: val_loss did not improve from 2.05399\n",
            "\n",
            "Epoch 00023: val_loss did not improve from 2.05399\n",
            "\n",
            "Epoch 00024: val_loss did not improve from 2.05399\n",
            "\n",
            "Epoch 00025: val_loss did not improve from 2.05399\n",
            "\n",
            "Epoch 00026: val_loss did not improve from 2.05399\n",
            "\n",
            "Epoch 00027: val_loss did not improve from 2.05399\n",
            "\n",
            "Epoch 00028: val_loss did not improve from 2.05399\n",
            "\n",
            "Epoch 00029: val_loss did not improve from 2.05399\n",
            "\n",
            "Epoch 00030: val_loss did not improve from 2.05399\n",
            "\n",
            "Epoch 00031: val_loss did not improve from 2.05399\n",
            "\n",
            "Epoch 00032: val_loss did not improve from 2.05399\n",
            "\n",
            "Epoch 00033: val_loss did not improve from 2.05399\n",
            "\n",
            "Epoch 00034: val_loss did not improve from 2.05399\n",
            "\n",
            "Epoch 00035: val_loss did not improve from 2.05399\n",
            "\n",
            "Epoch 00036: val_loss did not improve from 2.05399\n",
            "\n",
            "Epoch 00037: val_loss did not improve from 2.05399\n",
            "\n",
            "Epoch 00038: val_loss improved from 2.05399 to 2.05287, saving model to weights.best.hdf5\n",
            "\n",
            "Epoch 00039: val_loss did not improve from 2.05287\n",
            "\n",
            "Epoch 00040: val_loss did not improve from 2.05287\n",
            "\n",
            "Epoch 00041: val_loss did not improve from 2.05287\n",
            "\n",
            "Epoch 00042: val_loss did not improve from 2.05287\n",
            "\n",
            "Epoch 00043: val_loss did not improve from 2.05287\n",
            "\n",
            "Epoch 00044: val_loss did not improve from 2.05287\n",
            "\n",
            "Epoch 00045: val_loss did not improve from 2.05287\n",
            "\n",
            "Epoch 00046: val_loss did not improve from 2.05287\n",
            "\n",
            "Epoch 00047: val_loss did not improve from 2.05287\n",
            "\n",
            "Epoch 00048: val_loss did not improve from 2.05287\n",
            "\n",
            "Epoch 00049: val_loss did not improve from 2.05287\n",
            "\n",
            "Epoch 00050: val_loss did not improve from 2.05287\n",
            "\n",
            "Epoch 00051: val_loss did not improve from 2.05287\n",
            "\n",
            "Epoch 00052: val_loss did not improve from 2.05287\n",
            "\n",
            "Epoch 00053: val_loss did not improve from 2.05287\n",
            "\n",
            "Epoch 00054: val_loss did not improve from 2.05287\n",
            "\n",
            "Epoch 00055: val_loss did not improve from 2.05287\n",
            "\n",
            "Epoch 00056: val_loss improved from 2.05287 to 2.05178, saving model to weights.best.hdf5\n",
            "\n",
            "Epoch 00057: val_loss did not improve from 2.05178\n",
            "\n",
            "Epoch 00058: val_loss did not improve from 2.05178\n",
            "\n",
            "Epoch 00059: val_loss did not improve from 2.05178\n",
            "\n",
            "Epoch 00060: val_loss did not improve from 2.05178\n",
            "\n",
            "Epoch 00061: val_loss did not improve from 2.05178\n",
            "\n",
            "Epoch 00062: val_loss did not improve from 2.05178\n",
            "\n",
            "Epoch 00063: val_loss did not improve from 2.05178\n",
            "\n",
            "Epoch 00064: val_loss did not improve from 2.05178\n",
            "\n",
            "Epoch 00065: val_loss did not improve from 2.05178\n",
            "\n",
            "Epoch 00066: val_loss did not improve from 2.05178\n",
            "\n",
            "Epoch 00067: val_loss did not improve from 2.05178\n",
            "\n",
            "Epoch 00068: val_loss did not improve from 2.05178\n",
            "\n",
            "Epoch 00069: val_loss did not improve from 2.05178\n",
            "\n",
            "Epoch 00070: val_loss did not improve from 2.05178\n",
            "\n",
            "Epoch 00071: val_loss did not improve from 2.05178\n",
            "\n",
            "Epoch 00072: val_loss did not improve from 2.05178\n",
            "\n",
            "Epoch 00073: val_loss did not improve from 2.05178\n",
            "\n",
            "Epoch 00074: val_loss did not improve from 2.05178\n",
            "\n",
            "Epoch 00075: val_loss did not improve from 2.05178\n",
            "\n",
            "Epoch 00076: val_loss did not improve from 2.05178\n",
            "\n",
            "Epoch 00077: val_loss did not improve from 2.05178\n",
            "\n",
            "Epoch 00078: val_loss did not improve from 2.05178\n",
            "\n",
            "Epoch 00079: val_loss did not improve from 2.05178\n",
            "\n",
            "Epoch 00080: val_loss did not improve from 2.05178\n",
            "\n",
            "Epoch 00081: val_loss did not improve from 2.05178\n",
            "\n",
            "Epoch 00082: val_loss did not improve from 2.05178\n",
            "\n",
            "Epoch 00083: val_loss did not improve from 2.05178\n",
            "\n",
            "Epoch 00084: val_loss did not improve from 2.05178\n",
            "\n",
            "Epoch 00085: val_loss did not improve from 2.05178\n",
            "\n",
            "Epoch 00086: val_loss did not improve from 2.05178\n",
            "\n",
            "Epoch 00087: val_loss did not improve from 2.05178\n",
            "\n",
            "Epoch 00088: val_loss did not improve from 2.05178\n",
            "\n",
            "Epoch 00089: val_loss did not improve from 2.05178\n",
            "\n",
            "Epoch 00090: val_loss did not improve from 2.05178\n",
            "\n",
            "Epoch 00091: val_loss did not improve from 2.05178\n",
            "\n",
            "Epoch 00092: val_loss did not improve from 2.05178\n",
            "\n",
            "Epoch 00093: val_loss did not improve from 2.05178\n",
            "\n",
            "Epoch 00094: val_loss did not improve from 2.05178\n",
            "\n",
            "Epoch 00095: val_loss did not improve from 2.05178\n",
            "\n",
            "Epoch 00096: val_loss did not improve from 2.05178\n",
            "\n",
            "Epoch 00097: val_loss did not improve from 2.05178\n",
            "\n",
            "Epoch 00098: val_loss did not improve from 2.05178\n",
            "\n",
            "Epoch 00099: val_loss did not improve from 2.05178\n",
            "\n",
            "Epoch 00100: val_loss did not improve from 2.05178\n",
            "\n",
            "Epoch 00101: val_loss did not improve from 2.05178\n",
            "\n",
            "Epoch 00102: val_loss did not improve from 2.05178\n",
            "\n",
            "Epoch 00103: val_loss did not improve from 2.05178\n",
            "\n",
            "Epoch 00104: val_loss did not improve from 2.05178\n",
            "\n",
            "Epoch 00105: val_loss did not improve from 2.05178\n",
            "\n",
            "Epoch 00106: val_loss did not improve from 2.05178\n",
            "\n",
            "Epoch 00107: val_loss did not improve from 2.05178\n",
            "\n",
            "Epoch 00108: val_loss did not improve from 2.05178\n",
            "\n",
            "Epoch 00109: val_loss did not improve from 2.05178\n",
            "\n",
            "Epoch 00110: val_loss did not improve from 2.05178\n",
            "\n",
            "Epoch 00111: val_loss did not improve from 2.05178\n",
            "\n",
            "Epoch 00112: val_loss did not improve from 2.05178\n",
            "\n",
            "Epoch 00113: val_loss did not improve from 2.05178\n",
            "\n",
            "Epoch 00114: val_loss did not improve from 2.05178\n",
            "\n",
            "Epoch 00115: val_loss did not improve from 2.05178\n",
            "\n",
            "Epoch 00116: val_loss did not improve from 2.05178\n",
            "\n",
            "Epoch 00117: val_loss did not improve from 2.05178\n",
            "\n",
            "Epoch 00118: val_loss did not improve from 2.05178\n",
            "\n",
            "Epoch 00119: val_loss did not improve from 2.05178\n",
            "\n",
            "Epoch 00120: val_loss did not improve from 2.05178\n",
            "\n",
            "Epoch 00121: val_loss did not improve from 2.05178\n",
            "\n",
            "Epoch 00122: val_loss did not improve from 2.05178\n",
            "\n",
            "Epoch 00123: val_loss did not improve from 2.05178\n",
            "\n",
            "Epoch 00124: val_loss did not improve from 2.05178\n",
            "\n",
            "Epoch 00125: val_loss did not improve from 2.05178\n",
            "\n",
            "Epoch 00126: val_loss did not improve from 2.05178\n",
            "\n",
            "Epoch 00127: val_loss did not improve from 2.05178\n",
            "\n",
            "Epoch 00128: val_loss did not improve from 2.05178\n",
            "\n",
            "Epoch 00129: val_loss did not improve from 2.05178\n",
            "\n",
            "Epoch 00130: val_loss did not improve from 2.05178\n",
            "\n",
            "Epoch 00131: val_loss did not improve from 2.05178\n",
            "\n",
            "Epoch 00132: val_loss did not improve from 2.05178\n",
            "\n",
            "Epoch 00133: val_loss did not improve from 2.05178\n",
            "\n",
            "Epoch 00134: val_loss did not improve from 2.05178\n",
            "\n",
            "Epoch 00135: val_loss did not improve from 2.05178\n",
            "\n",
            "Epoch 00136: val_loss did not improve from 2.05178\n",
            "\n",
            "Epoch 00137: val_loss did not improve from 2.05178\n",
            "\n",
            "Epoch 00138: val_loss did not improve from 2.05178\n",
            "\n",
            "Epoch 00139: val_loss did not improve from 2.05178\n",
            "\n",
            "Epoch 00140: val_loss did not improve from 2.05178\n",
            "\n",
            "Epoch 00141: val_loss did not improve from 2.05178\n",
            "\n",
            "Epoch 00142: val_loss did not improve from 2.05178\n",
            "\n",
            "Epoch 00143: val_loss did not improve from 2.05178\n",
            "\n",
            "Epoch 00144: val_loss did not improve from 2.05178\n",
            "\n",
            "Epoch 00145: val_loss did not improve from 2.05178\n",
            "\n",
            "Epoch 00146: val_loss did not improve from 2.05178\n",
            "\n",
            "Epoch 00147: val_loss did not improve from 2.05178\n",
            "\n",
            "Epoch 00148: val_loss did not improve from 2.05178\n",
            "\n",
            "Epoch 00149: val_loss did not improve from 2.05178\n",
            "\n",
            "Epoch 00150: val_loss did not improve from 2.05178\n",
            "\n",
            "Epoch 00151: val_loss did not improve from 2.05178\n",
            "\n",
            "Epoch 00152: val_loss did not improve from 2.05178\n",
            "\n",
            "Epoch 00153: val_loss did not improve from 2.05178\n",
            "\n",
            "Epoch 00154: val_loss did not improve from 2.05178\n",
            "\n",
            "Epoch 00155: val_loss did not improve from 2.05178\n",
            "\n",
            "Epoch 00156: val_loss did not improve from 2.05178\n",
            "\n",
            "Epoch 00157: val_loss did not improve from 2.05178\n",
            "\n",
            "Epoch 00158: val_loss did not improve from 2.05178\n",
            "\n",
            "Epoch 00159: val_loss did not improve from 2.05178\n",
            "\n",
            "Epoch 00160: val_loss did not improve from 2.05178\n",
            "\n",
            "Epoch 00161: val_loss did not improve from 2.05178\n",
            "\n",
            "Epoch 00162: val_loss did not improve from 2.05178\n",
            "\n",
            "Epoch 00163: val_loss did not improve from 2.05178\n",
            "\n",
            "Epoch 00164: val_loss did not improve from 2.05178\n",
            "\n",
            "Epoch 00165: val_loss did not improve from 2.05178\n",
            "\n",
            "Epoch 00166: val_loss did not improve from 2.05178\n",
            "\n",
            "Epoch 00167: val_loss did not improve from 2.05178\n",
            "\n",
            "Epoch 00168: val_loss did not improve from 2.05178\n",
            "\n",
            "Epoch 00169: val_loss did not improve from 2.05178\n",
            "\n",
            "Epoch 00170: val_loss did not improve from 2.05178\n",
            "\n",
            "Epoch 00171: val_loss did not improve from 2.05178\n",
            "\n",
            "Epoch 00172: val_loss did not improve from 2.05178\n",
            "\n",
            "Epoch 00173: val_loss did not improve from 2.05178\n",
            "\n",
            "Epoch 00174: val_loss did not improve from 2.05178\n",
            "\n",
            "Epoch 00175: val_loss did not improve from 2.05178\n",
            "\n",
            "Epoch 00176: val_loss did not improve from 2.05178\n",
            "\n",
            "Epoch 00177: val_loss did not improve from 2.05178\n",
            "\n",
            "Epoch 00178: val_loss did not improve from 2.05178\n",
            "\n",
            "Epoch 00179: val_loss did not improve from 2.05178\n",
            "\n",
            "Epoch 00180: val_loss did not improve from 2.05178\n",
            "\n",
            "Epoch 00181: val_loss did not improve from 2.05178\n",
            "\n",
            "Epoch 00182: val_loss did not improve from 2.05178\n",
            "\n",
            "Epoch 00183: val_loss did not improve from 2.05178\n",
            "\n",
            "Epoch 00184: val_loss did not improve from 2.05178\n",
            "\n",
            "Epoch 00185: val_loss did not improve from 2.05178\n",
            "\n",
            "Epoch 00186: val_loss did not improve from 2.05178\n",
            "\n",
            "Epoch 00187: val_loss did not improve from 2.05178\n",
            "\n",
            "Epoch 00188: val_loss did not improve from 2.05178\n",
            "\n",
            "Epoch 00189: val_loss did not improve from 2.05178\n",
            "\n",
            "Epoch 00190: val_loss did not improve from 2.05178\n",
            "\n",
            "Epoch 00191: val_loss did not improve from 2.05178\n",
            "\n",
            "Epoch 00192: val_loss did not improve from 2.05178\n",
            "\n",
            "Epoch 00193: val_loss did not improve from 2.05178\n",
            "\n",
            "Epoch 00194: val_loss did not improve from 2.05178\n",
            "\n",
            "Epoch 00195: val_loss did not improve from 2.05178\n",
            "\n",
            "Epoch 00196: val_loss did not improve from 2.05178\n",
            "\n",
            "Epoch 00197: val_loss did not improve from 2.05178\n",
            "\n",
            "Epoch 00198: val_loss did not improve from 2.05178\n",
            "\n",
            "Epoch 00199: val_loss did not improve from 2.05178\n",
            "\n",
            "Epoch 00200: val_loss did not improve from 2.05178\n"
          ],
          "name": "stdout"
        },
        {
          "output_type": "execute_result",
          "data": {
            "text/plain": [
              "<tensorflow.python.keras.callbacks.History at 0x7ff1136c1990>"
            ]
          },
          "metadata": {
            "tags": []
          },
          "execution_count": 39
        }
      ]
    },
    {
      "cell_type": "code",
      "metadata": {
        "id": "Ch_n-n-Xqfh5",
        "colab": {
          "base_uri": "https://localhost:8080/"
        },
        "outputId": "74131e8f-f6c6-4a2d-ad49-7b4a18ce08ba"
      },
      "source": [
        "model.load_weights(\"weights.best.hdf5\")\n",
        "# Compile model (required to make predictions)\n",
        "model.compile(loss='mean_absolute_error', optimizer='adam', metrics=['mean_absolute_error'])\n",
        "print(\"Created model and loaded weights from file\")\n",
        "\n",
        "\n",
        "# estimate accuracy on whole dataset using loaded weights\n",
        "scores = model.evaluate(train, target, verbose=0)\n",
        "print(\"%s: %.2f\" % (model.metrics_names[0], scores[0]))"
      ],
      "execution_count": 40,
      "outputs": [
        {
          "output_type": "stream",
          "text": [
            "Created model and loaded weights from file\n",
            "loss: 2.36\n"
          ],
          "name": "stdout"
        }
      ]
    },
    {
      "cell_type": "code",
      "metadata": {
        "id": "a9jH9i_Cqfh5"
      },
      "source": [
        "predictions = model.predict(test_input)"
      ],
      "execution_count": 41,
      "outputs": []
    },
    {
      "cell_type": "code",
      "metadata": {
        "id": "7DQxv9BJqfh6",
        "colab": {
          "base_uri": "https://localhost:8080/"
        },
        "outputId": "b576f611-087a-4d67-c91f-ac802afe16d3"
      },
      "source": [
        "print(\"predictions: \\n\",predictions)\n",
        "print(\"\\n\\nactial values: \\n\",test_output)"
      ],
      "execution_count": 42,
      "outputs": [
        {
          "output_type": "stream",
          "text": [
            "predictions: \n",
            " [[95.49376 ]\n",
            " [97.391754]\n",
            " [98.61252 ]\n",
            " [94.78376 ]\n",
            " [98.67561 ]\n",
            " [95.38869 ]\n",
            " [97.40709 ]\n",
            " [97.54772 ]\n",
            " [97.00963 ]\n",
            " [97.870514]\n",
            " [96.53131 ]\n",
            " [95.44753 ]\n",
            " [97.00104 ]\n",
            " [96.957016]\n",
            " [96.18249 ]\n",
            " [94.55112 ]\n",
            " [96.66478 ]\n",
            " [96.61901 ]\n",
            " [98.621254]\n",
            " [94.1985  ]\n",
            " [96.18439 ]\n",
            " [95.725586]\n",
            " [97.62541 ]\n",
            " [97.24947 ]\n",
            " [96.23384 ]\n",
            " [97.99203 ]\n",
            " [96.526695]\n",
            " [96.334595]\n",
            " [96.27406 ]\n",
            " [96.924576]]\n",
            "\n",
            "\n",
            "actial values: \n",
            " 62    98\n",
            "40    96\n",
            "95    96\n",
            "18    96\n",
            "97    98\n",
            "84    92\n",
            "64    92\n",
            "42    96\n",
            "10    98\n",
            "0     98\n",
            "31    92\n",
            "76    98\n",
            "47    98\n",
            "26    92\n",
            "44    98\n",
            "4     92\n",
            "22    98\n",
            "12    96\n",
            "88    98\n",
            "73    98\n",
            "49    96\n",
            "70    92\n",
            "68    98\n",
            "15    96\n",
            "39    96\n",
            "33    92\n",
            "9     96\n",
            "81    92\n",
            "11    98\n",
            "65    98\n",
            "Name: Position, dtype: int64\n"
          ],
          "name": "stdout"
        }
      ]
    }
  ]
}